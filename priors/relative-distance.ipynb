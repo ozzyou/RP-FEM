{
 "cells": [
  {
   "cell_type": "code",
   "execution_count": null,
   "id": "881850b8",
   "metadata": {},
   "outputs": [],
   "source": [
    "# --------------------------------------------------------\n",
    "# RP-FEM: Relational Prior Knowledge Graphs for Detection and Instance Segmentation\n",
    "# Copyright (c) 2023\n",
    "# Licensed under The MIT License [see LICENSE for details]\n",
    "# --------------------------------------------------------\n",
    "\n",
    "import os\n",
    "import json\n",
    "import math\n",
    "import numpy as np\n",
    "\n",
    "from tqdm import tqdm"
   ]
  },
  {
   "cell_type": "code",
   "execution_count": null,
   "id": "820ffc23",
   "metadata": {},
   "outputs": [],
   "source": [
    "ROOT_VG = \"path/to/VisualGenome/\"\n",
    "with open(ROOT_VG + 'objects.json') as in1:\n",
    "    objects_file = json.load(in1)\n",
    "\n",
    "with open(ROOT_VG + 'image_data.json') as in2:\n",
    "    image_data = json.load(in2)\n",
    "    \n",
    "with open('SYNSET_TO_NAME_MAPPER.json') as in3:\n",
    "    SYNSET_TO_NAMES_MAPPER = json.load(in3)\n",
    "\n",
    "with open('COCO_TO_VG_SYNSET_MAPPER.json') as in4:\n",
    "    COCO_TO_VG_SYNSET_MAPPER = json.load(in4)\n",
    "    \n",
    "with open('COCO_CLASSES_IN_VG_COUNT.json') as in5:\n",
    "    COCO_CLASSES_IN_VG_COUNT = json.load(in5)\n",
    "\n",
    "all_ids = []\n",
    "all_files = os.listdir(ROOT_VG + \"VG_100K\")\n",
    "for i in all_files:\n",
    "    all_ids.append(i.split(\".\")[0])\n",
    "    \n",
    "new_image_data = {}\n",
    "for all_data in image_data:\n",
    "    new_image_data[all_data['image_id']] = all_data"
   ]
  },
  {
   "cell_type": "code",
   "execution_count": null,
   "id": "0d2d9819",
   "metadata": {},
   "outputs": [],
   "source": [
    "COCO_TO_VG_SYNSET_MAPPER_INVERSE = {}\n",
    "for p in COCO_TO_VG_SYNSET_MAPPER:\n",
    "    for m in COCO_TO_VG_SYNSET_MAPPER[p]:\n",
    "        if m not in COCO_TO_VG_SYNSET_MAPPER_INVERSE:\n",
    "            COCO_TO_VG_SYNSET_MAPPER_INVERSE[m] = [p]\n",
    "        else:\n",
    "            COCO_TO_VG_SYNSET_MAPPER_INVERSE[m].append(p)"
   ]
  },
  {
   "cell_type": "code",
   "execution_count": null,
   "id": "4ecc4616",
   "metadata": {},
   "outputs": [],
   "source": [
    "abs_dict_dict = {}\n",
    "for c in COCO_TO_VG_SYNSET_MAPPER:\n",
    "    inner_dict = {} \n",
    "    for cc in COCO_TO_VG_SYNSET_MAPPER:\n",
    "        \n",
    "        # {L, C, R, T, B} stand for {“left\", “center\", “right\", “top\", “bottom\"}\n",
    "        # as in https://arxiv.org/pdf/2206.00481.pdf\n",
    "        inner_dict[cc] = []\n",
    "    abs_dict_dict[c] = inner_dict\n"
   ]
  },
  {
   "cell_type": "code",
   "execution_count": null,
   "id": "ce3afe73",
   "metadata": {},
   "outputs": [],
   "source": [
    "def euc_dist(x1, y1, x2, y2):\n",
    "    return math.sqrt((x1 - x2)**2 + (y1 - y2)**2)"
   ]
  },
  {
   "cell_type": "code",
   "execution_count": null,
   "id": "1ceb507c",
   "metadata": {},
   "outputs": [],
   "source": [
    "relevant_classes = [j for sub in list(COCO_TO_VG_SYNSET_MAPPER.values()) for j in sub]\n",
    "for c_i, image in tqdm(enumerate(objects_file), total=len(objects_file)):\n",
    "    if str(image[\"image_id\"]) not in all_ids:\n",
    "        continue\n",
    "    this_image_data = new_image_data[image[\"image_id\"]]\n",
    "    height, width = this_image_data['height'], this_image_data['width']\n",
    "    for object_i in image['objects']:\n",
    "\n",
    "        valid_names_i = []\n",
    "        stripped_names_i = [synset_i.split(\".\")[0].replace('_', ' ') for synset_i in object_i[\"synsets\"]]\n",
    "        new_stripped_names_i = []\n",
    "\n",
    "        for name in stripped_names_i:\n",
    "            for k in COCO_TO_VG_SYNSET_MAPPER:\n",
    "                key_list = COCO_TO_VG_SYNSET_MAPPER[k]\n",
    "                if name in key_list:\n",
    "                    if name not in new_stripped_names_i:\n",
    "                        new_stripped_names_i.append(name)\n",
    "        if new_stripped_names_i == []:\n",
    "            continue\n",
    "            \n",
    "        my_x_center = ((object_i['w'] / 2) + object_i['x']) / width\n",
    "        my_y_center = ((object_i['h'] / 2) + object_i['y']) / height\n",
    "        for c, object_j in enumerate(image['objects']):\n",
    "            if object_i['object_id'] == object_j['object_id']:\n",
    "                continue\n",
    "            \n",
    "            valid_names_j = []\n",
    "            stripped_names_j = [synset_j.split(\".\")[0].replace('_', ' ') for synset_j in object_j[\"synsets\"]]\n",
    "            new_stripped_names_j = []\n",
    "            for name in stripped_names_j:\n",
    "                for k in COCO_TO_VG_SYNSET_MAPPER:\n",
    "                    key_list = COCO_TO_VG_SYNSET_MAPPER[k]\n",
    "                    if name in key_list:\n",
    "                        if name not in new_stripped_names_j:\n",
    "                            new_stripped_names_j.append(name)\n",
    "            if new_stripped_names_j == []:\n",
    "                continue\n",
    "                            \n",
    "            their_x_center = ((object_j['w'] / 2) + object_j['x']) / width\n",
    "            their_y_center = ((object_j['h'] / 2) + object_j['y']) / height\n",
    "            \n",
    "            dist = euc_dist(my_x_center, my_y_center, their_x_center, their_y_center)\n",
    "\n",
    "            for ss_i in new_stripped_names_i:\n",
    "                inverse_list_ss_i = COCO_TO_VG_SYNSET_MAPPER_INVERSE[ss_i]\n",
    "                for all_inverse_ssi in inverse_list_ss_i:\n",
    "                    for ss_j in new_stripped_names_j:\n",
    "                        inverse_list_ss_j = COCO_TO_VG_SYNSET_MAPPER_INVERSE[ss_j]\n",
    "                        for all_inverse_ssj in inverse_list_ss_j:\n",
    "                            \n",
    "                            # Normalize distance with bounding box sizes\n",
    "                            object_i_area = object_i['w'] * object_i['h']\n",
    "                            object_j_area = object_j['w'] * object_j['h']\n",
    "                            if abs(object_i_area - object_j_area) == 0:\n",
    "                                normalization_term = 1\n",
    "                            else:\n",
    "                                normalization_term = (object_i_area + object_j_area) / abs(object_i_area - object_j_area)\n",
    "\n",
    "                            # Distance relation\n",
    "                            dist /= normalization_term\n",
    "                            abs_dict_dict[all_inverse_ssi][all_inverse_ssj].append(dist)\n"
   ]
  },
  {
   "cell_type": "code",
   "execution_count": null,
   "id": "cd6cc76e",
   "metadata": {},
   "outputs": [],
   "source": [
    "# Compute mean and standard deviation\n",
    "mean_std_dict = {}\n",
    "for class_ratios in list(abs_dict_dict.keys()):\n",
    "    mean_std_dict[class_ratios] = {}\n",
    "\n",
    "    for class_ratios2 in list(abs_dict_dict.keys()):\n",
    "        class_ratios_list = abs_dict_dict[class_ratios][class_ratios2]\n",
    "        mean = np.mean(class_ratios_list)\n",
    "        std = np.std(class_ratios_list)\n",
    "        if math.isnan(mean) or math.isnan(std):\n",
    "            mean_std_dict[class_ratios][class_ratios2] = [0, 0]\n",
    "        else:\n",
    "            mean_std_dict[class_ratios][class_ratios2] = [mean, std]"
   ]
  },
  {
   "cell_type": "code",
   "execution_count": null,
   "id": "2d54047b",
   "metadata": {},
   "outputs": [],
   "source": [
    "with open(\"relative-distance.json\", \"w\") as out1:\n",
    "    json.dump(mean_std_dict, out1)\n",
    "    "
   ]
  }
 ],
 "metadata": {
  "kernelspec": {
   "display_name": "Python 3",
   "language": "python",
   "name": "python3"
  },
  "language_info": {
   "codemirror_mode": {
    "name": "ipython",
    "version": 3
   },
   "file_extension": ".py",
   "mimetype": "text/x-python",
   "name": "python",
   "nbconvert_exporter": "python",
   "pygments_lexer": "ipython3",
   "version": "3.8.5"
  }
 },
 "nbformat": 4,
 "nbformat_minor": 5
}
