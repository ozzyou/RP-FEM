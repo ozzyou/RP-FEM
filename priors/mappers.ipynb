{
 "cells": [
  {
   "cell_type": "code",
   "execution_count": null,
   "id": "ff94c15f",
   "metadata": {},
   "outputs": [],
   "source": [
    "import json\n",
    "import h5py\n",
    "import numpy as np\n",
    "import json\n",
    "\n",
    "from coco import COCO_CLASSES\n",
    "from tqdm import tqdm"
   ]
  },
  {
   "cell_type": "code",
   "execution_count": null,
   "id": "f9e16932",
   "metadata": {},
   "outputs": [],
   "source": [
    "# Set to root of the VisualGenome dataset\n",
    "ROOT_VG = \"/Users/ozzy/Projects/Datasets/VisualGenome/\"\n",
    "with open(ROOT_VG + 'objects.json') as json_file:\n",
    "    objects_file = json.load(json_file)"
   ]
  },
  {
   "cell_type": "code",
   "execution_count": null,
   "id": "59d868d6",
   "metadata": {},
   "outputs": [],
   "source": [
    "# Each annotated instance in Visual Genome has 'synsets' and 'names'\n",
    "# Here we build a mapper which lists all names belonging to each synset in the Visual Genome dataset\n",
    "SYNSET_TO_NAME_MAPPER, no_synset = {}, {}\n",
    "for c, objects in tqdm(enumerate(objects_file), total=len(objects_file)):\n",
    "    objects = objects['objects']\n",
    "    for object_i in objects:\n",
    "        \n",
    "        if object_i['synsets'] == []:\n",
    "            for noname in object_i['names']:\n",
    "                if no_synset not in list(no_synset.keys()):\n",
    "                    no_synset[noname] = 1\n",
    "                else:\n",
    "                    no_synset[noname] += 1\n",
    "            continue\n",
    "            \n",
    "        stripped_names_i = [synset_i.split(\".\")[0] for synset_i in object_i[\"synsets\"]]\n",
    "        keys = list(SYNSET_TO_NAME_MAPPER.keys())\n",
    "        \n",
    "        for l in stripped_names_i:\n",
    "            objects_temp = list(set(object_i[\"names\"]))\n",
    "            l = l.replace('_', ' ')\n",
    "            if l not in keys:\n",
    "                SYNSET_TO_NAME_MAPPER[l] = objects_temp\n",
    "            else:\n",
    "                if len(objects_temp) == 1:\n",
    "                    if objects_temp[0] not in SYNSET_TO_NAME_MAPPER[l]:\n",
    "                        SYNSET_TO_NAME_MAPPER[l].extend(objects_temp)\n",
    "                else:\n",
    "                    for o in objects_temp:\n",
    "                        if o not in SYNSET_TO_NAME_MAPPER[l]:\n",
    "                            SYNSET_TO_NAME_MAPPER[l].append(o)  \n"
   ]
  },
  {
   "cell_type": "code",
   "execution_count": null,
   "id": "1635edf0",
   "metadata": {},
   "outputs": [],
   "source": [
    "# We build a mapper with each COCO class that appears in one of the names of the Visual Genome synsets\n",
    "COCO_TO_VG_SYNSET_MAPPER = {}\n",
    "for coco in tqdm(list(COCO_CLASSES.values())[1:]):\n",
    "    for synset, names_list in list(SYNSET_TO_NAME_MAPPER.items()):\n",
    "        if coco == \"sports ball\":\n",
    "            if \"ball\" in names_list or \"baseball\" in names_list or \"tennis ball\" in names_list or \"basketball\" in names_list:\n",
    "                synset = synset.replace(\"_\", \" \")\n",
    "                if coco not in list(COCO_TO_VG_SYNSET_MAPPER.keys()):\n",
    "                    COCO_TO_VG_SYNSET_MAPPER[coco] = [synset]              \n",
    "                else:\n",
    "                    COCO_TO_VG_SYNSET_MAPPER[coco].append(synset)\n",
    "        if coco in names_list:\n",
    "            synset = synset.replace(\"_\", \" \")\n",
    "            if coco not in list(COCO_TO_VG_SYNSET_MAPPER.keys()):\n",
    "                COCO_TO_VG_SYNSET_MAPPER[coco] = [synset]              \n",
    "            else:\n",
    "                COCO_TO_VG_SYNSET_MAPPER[coco].append(synset)\n"
   ]
  },
  {
   "cell_type": "code",
   "execution_count": null,
   "id": "a4dcb104",
   "metadata": {},
   "outputs": [],
   "source": [
    "# Count the number of occurrences of COCO classes in Visual Genome\n",
    "COCO_CLASSES_IN_VG_COUNT = {}\n",
    "for c, objects in tqdm(enumerate(objects_file), total=len(objects_file)):\n",
    "    objects = objects['objects']\n",
    "    for object_i in objects:\n",
    "        if object_i['synsets'] == []:\n",
    "            continue\n",
    "\n",
    "        keys = list(COCO_CLASSES_IN_VG_COUNT.keys())\n",
    "        stripped_names_i = [synset_i.split(\".\")[0] for synset_i in object_i[\"synsets\"]]\n",
    "        \n",
    "        for l in stripped_names_i:\n",
    "            l = l.replace('_', ' ')\n",
    "            for k in COCO_TO_VG_SYNSET_MAPPER:\n",
    "                key_list = COCO_TO_VG_SYNSET_MAPPER[k]\n",
    "                if l in key_list:\n",
    "                    if k not in keys:\n",
    "                        COCO_CLASSES_IN_VG_COUNT[k] = 1\n",
    "                    else:\n",
    "                        COCO_CLASSES_IN_VG_COUNT[k] += 1\n",
    "                else:\n",
    "                    continue\n"
   ]
  },
  {
   "cell_type": "code",
   "execution_count": null,
   "id": "1cde9d9d",
   "metadata": {},
   "outputs": [],
   "source": [
    "with open(\"SYNSET_TO_NAME_MAPPER.json\", \"w\") as out1:\n",
    "    json.dump(SYNSET_TO_NAME_MAPPER, out1)\n",
    "\n",
    "with open(\"COCO_TO_VG_SYNSET_MAPPER.json\", \"w\") as out2:\n",
    "    json.dump(COCO_TO_VG_SYNSET_MAPPER, out2)\n",
    "\n",
    "with open(\"COCO_CLASSES_IN_VG_COUNT.json\", \"w\") as out3:\n",
    "    json.dump(COCO_CLASSES_IN_VG_COUNT, out3)\n",
    "    "
   ]
  }
 ],
 "metadata": {
  "kernelspec": {
   "display_name": "Python 3",
   "language": "python",
   "name": "python3"
  },
  "language_info": {
   "codemirror_mode": {
    "name": "ipython",
    "version": 3
   },
   "file_extension": ".py",
   "mimetype": "text/x-python",
   "name": "python",
   "nbconvert_exporter": "python",
   "pygments_lexer": "ipython3",
   "version": "3.8.5"
  }
 },
 "nbformat": 4,
 "nbformat_minor": 5
}
